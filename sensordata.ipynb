{
  "cells": [
    {
      "cell_type": "code",
      "execution_count": null,
      "metadata": {
        "id": "35FRTkj_BdWZ"
      },
      "outputs": [],
      "source": [
        "pip install mysql-connector\n"
      ]
    },
    {
      "cell_type": "code",
      "execution_count": null,
      "metadata": {
        "colab": {
          "base_uri": "https://localhost:8080/",
          "height": 1000
        },
        "id": "0Dj8qtJj4dz5",
        "outputId": "4c7265d9-1342-4b5d-ae51-0d737ca50753"
      },
      "outputs": [],
      "source": [
        "import json\n",
        "import mysql.connector\n",
        "from datetime import datetime\n",
        "\n",
        "conn = mysql.connector.connect(\n",
        "    host=\"\",\n",
        "    user=\"\",\n",
        "    password=\"\",\n",
        "    database=\"\"\n",
        ")\n",
        "cursor = conn.cursor()\n",
        "\n",
        "while True :\n",
        "    timestamp = datetime.now().strftime('%Y-%m-%d %H:%M:%S')\n",
        "    pH = data['pH']\n",
        "    turbidity = data['turbidity']\n",
        "    dissolved_oxygen = data['dissolved_oxygen']\n",
        "    print(timestamp, pH, turbidity, dissolved_oxygen)\n",
        "    cursor.execute('INSERT INTO sensor_portal_sensor (timestamp, temperature, humidity, soil_moisture,light_intensity,rainfall,wind_speed,created_at,farm_id,updated_at) VALUES (%s, %s, %s, %s,%s, %s, %s, %s,%s,%s)',\n",
        "                   (timestamp, pH, turbidity, dissolved_oxygen,pH, turbidity, dissolved_oxygen,timestamp,farm_id,timestamp))\n",
        "    conn.commit()\n",
        "\n",
        "\n"
      ]
    }
  ],
  "metadata": {
    "colab": {
      "provenance": []
    },
    "kernelspec": {
      "display_name": "Python 3",
      "name": "python3"
    },
    "language_info": {
      "name": "python"
    }
  },
  "nbformat": 4,
  "nbformat_minor": 0
}
